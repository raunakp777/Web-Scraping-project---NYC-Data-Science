import pandas as pd

dataset = pd.read_csv("chocolate_ratings.csv")

dataset.head()
